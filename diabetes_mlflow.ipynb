{
 "cells": [
  {
   "cell_type": "code",
   "execution_count": 1,
   "id": "ec3f818e-98c9-417e-ad89-e75dbc4b87e6",
   "metadata": {},
   "outputs": [],
   "source": [
    "import numpy as np\n",
    "from sklearn import datasets, linear_model\n",
    "\n",
    "# Load the diabetes dataset\n",
    "diabetes_X, diabetes_y = datasets.load_diabetes(return_X_y=True)\n",
    "\n",
    "# Use only one feature\n",
    "diabetes_X = diabetes_X[:, np.newaxis, 2]\n",
    "\n",
    "# Split the data into training/testing sets\n",
    "diabetes_X_train = diabetes_X[:-20]\n",
    "diabetes_X_test = diabetes_X[-20:]\n",
    "\n",
    "# Split the targets into training/testing sets\n",
    "diabetes_y_train = diabetes_y[:-20]\n",
    "diabetes_y_test = diabetes_y[-20:]"
   ]
  },
  {
   "cell_type": "code",
   "execution_count": 2,
   "id": "cb22cd23-7f11-49ad-bdfd-f2f4ff1939f8",
   "metadata": {},
   "outputs": [],
   "source": [
    "import mlflow\n",
    "mlflow_tracking_uri = \"sqlite:///mlruns.db\"\n",
    "mlflow.set_tracking_uri(mlflow_tracking_uri)"
   ]
  },
  {
   "cell_type": "code",
   "execution_count": 5,
   "id": "382847b1-7cc9-405c-b844-3cd3121f8763",
   "metadata": {},
   "outputs": [
    {
     "name": "stderr",
     "output_type": "stream",
     "text": [
      "Registered model 'diabetes_mlflow' already exists. Creating a new version of this model...\n",
      "2021/10/14 11:24:05 INFO mlflow.tracking._model_registry.client: Waiting up to 300 seconds for model version to finish creation.                     Model name: diabetes_mlflow, version 4\n",
      "Created version '4' of model 'diabetes_mlflow'.\n"
     ]
    }
   ],
   "source": [
    "model = linear_model.LinearRegression()\n",
    "model.fit(diabetes_X_train, diabetes_y_train)\n",
    "\n",
    "with mlflow.start_run() as run:\n",
    "    mlflow.sklearn.log_model(\n",
    "        model,\n",
    "        artifact_path = \"model\", \n",
    "        registered_model_name = \"diabetes_mlflow\")"
   ]
  },
  {
   "cell_type": "code",
   "execution_count": 7,
   "id": "dc4195db-c29d-4589-a80d-976e630b218e",
   "metadata": {},
   "outputs": [
    {
     "data": {
      "text/plain": [
       "array([225.9732401])"
      ]
     },
     "execution_count": 7,
     "metadata": {},
     "output_type": "execute_result"
    }
   ],
   "source": [
    "loaded_model = mlflow.sklearn.load_model(\"models:/diabetes_mlflow/4\")\n",
    "loaded_model.predict([diabetes_X_test[0]])"
   ]
  },
  {
   "cell_type": "code",
   "execution_count": null,
   "id": "2fe630a8-1fb8-4db1-a4cb-f7ac76cf1eba",
   "metadata": {},
   "outputs": [],
   "source": []
  }
 ],
 "metadata": {
  "kernelspec": {
   "display_name": "Python 3 (ipykernel)",
   "language": "python",
   "name": "python3"
  },
  "language_info": {
   "codemirror_mode": {
    "name": "ipython",
    "version": 3
   },
   "file_extension": ".py",
   "mimetype": "text/x-python",
   "name": "python",
   "nbconvert_exporter": "python",
   "pygments_lexer": "ipython3",
   "version": "3.8.10"
  }
 },
 "nbformat": 4,
 "nbformat_minor": 5
}
